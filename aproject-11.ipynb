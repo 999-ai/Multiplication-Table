{
 "cells": [
  {
   "cell_type": "code",
   "execution_count": null,
   "id": "15ca0578-c1e5-4834-9927-3c9eca21f4f5",
   "metadata": {},
   "outputs": [],
   "source": [
    "def multiplicationtable():\n",
    " number=int(input(\"tell me a number in order to make a multiplication table:\"))\n",
    " \n",
    " for i in range(1,11):\n",
    "  print(f\"{number}*{i}={number*i}\")\n",
    "print()\n",
    "\n",
    "while True:\n",
    " multiplicationtable() \n",
    " question=(input(\"would you like to add another number?yes or no:\")).lower()\n",
    " if question==\"no\":\n",
    "    break"
   ]
  }
 ],
 "metadata": {
  "kernelspec": {
   "display_name": "Python 3 (ipykernel)",
   "language": "python",
   "name": "python3"
  },
  "language_info": {
   "codemirror_mode": {
    "name": "ipython",
    "version": 3
   },
   "file_extension": ".py",
   "mimetype": "text/x-python",
   "name": "python",
   "nbconvert_exporter": "python",
   "pygments_lexer": "ipython3",
   "version": "3.12.4"
  }
 },
 "nbformat": 4,
 "nbformat_minor": 5
}
